{
 "cells": [
  {
   "attachments": {},
   "cell_type": "markdown",
   "metadata": {},
   "source": [
    "# DigiTaxi"
   ]
  },
  {
   "attachments": {},
   "cell_type": "markdown",
   "metadata": {},
   "source": [
    "Aplicación que busca ayudar al conductor que brinda una carrera de taxi a calcular el total de su tarifa considerando las variables posibles durante el servicio."
   ]
  },
  {
   "attachments": {},
   "cell_type": "markdown",
   "metadata": {},
   "source": [
    "## Tabla de contenidos"
   ]
  },
  {
   "attachments": {},
   "cell_type": "markdown",
   "metadata": {},
   "source": [
    "- Requisitos previos\n",
    "- Instalación\n",
    "- Uso\n",
    "- Contribución\n",
    "- Créditos\n",
    "- Licencia"
   ]
  },
  {
   "attachments": {},
   "cell_type": "markdown",
   "metadata": {},
   "source": [
    "### Requisitos previos"
   ]
  },
  {
   "attachments": {},
   "cell_type": "markdown",
   "metadata": {},
   "source": [
    "Para el desarrollo de este proyecto se utilizó la herramiento python en su versión 3.10 principalmente para el armado del código base, a su vez se implementaron bibliotecas como Time, Loggin, unittest y tkinter asi como el uso de un entorno virtual con dichas caracteristicas."
   ]
  },
  {
   "attachments": {},
   "cell_type": "markdown",
   "metadata": {},
   "source": [
    "### Intalación"
   ]
  },
  {
   "attachments": {},
   "cell_type": "markdown",
   "metadata": {},
   "source": [
    "Para poder contar con esta aplicación es necesario en primer lugar crear un entorno virtual para poder ahi guardar las dependencias del programa , para ello tambien es necesario contar con la herramienta pip ya que con esta podremos instalar las librerias que necesitamos. A continuación adjuntamos los enlaces de la documentación de dichas bibliotecas.\n",
    "- Descargar python : https://www.python.org/\n",
    "- Time : https://docs.python.org/es/3/library/time.html\n",
    "- Logging : https://docs.python.org/es/3/howto/logging.html\n",
    "- Tkinter : https://docs.python.org/es/3/library/tk.html\n",
    "- Unittest : https://docs.python.org/es/3.9/library/unittest.html"
   ]
  },
  {
   "attachments": {},
   "cell_type": "markdown",
   "metadata": {},
   "source": [
    "### Uso"
   ]
  },
  {
   "attachments": {},
   "cell_type": "markdown",
   "metadata": {},
   "source": [
    "Para su uso en la pantalla se mostrará una interfaz en donde aparezca las opciones el \"Inicio de carrera\", que será el unico botón activo, al presionar \"Inicio de carrera\" , comenzara su cálculo considerando que el taxi empieza desde el estado parado considerando la tarifa en movimiento que se le ha asignado, a su ves se mostrarán las opciones de \"Continuar\", pasando la tarifa a la configurada cuando el taxi no este en movimiento pero la carrera continue, y la opcion de \"Terminar la carrera\" para poder calcular la tarifa. Mientras el taxi este detenido pero la carrera siga estando activa en la pantalla se mostraran las opciones de \"Pausar\", para poder continuar con el cálculo del taximetro con la tarifa en movimiento y la opcion de \"Terminar carrera\", cuando se requiera contar con el monto final del servicio. Cuando se acabe la carrera la interfaz regresará nuevamente a la interfaz de inicio con las opciones de \"Inicio de carrera\" y para poder salir de la carrera seleccionamos \"x\" y asi se cerrará el programa."
   ]
  },
  {
   "attachments": {},
   "cell_type": "markdown",
   "metadata": {},
   "source": [
    "### Contribución"
   ]
  },
  {
   "attachments": {},
   "cell_type": "markdown",
   "metadata": {},
   "source": [
    "Este archivo y su desarrollo se encuentran almacenados en Github , para poder contribuir o analizar el codigo se puede entrar a la comunidad de AI-Escuela-F5-P2 en el apartado de proyecto_taxi_g11 (https://github.com/AI-School-F5-P2/proyecto_taxi_g11) si deseas contribuir al desarrollo de este codigo realiza un clon con la URL del proyecto y en tu editor de código generar una nueva rama para no interferir en la rama main, considerar que todos los commit y los push que se intenten seran revisadosy porteriormente aceptar o declinar la opcion de edición para evitar problemas."
   ]
  },
  {
   "attachments": {},
   "cell_type": "markdown",
   "metadata": {},
   "source": [
    "### Créditos"
   ]
  },
  {
   "attachments": {},
   "cell_type": "markdown",
   "metadata": {},
   "source": [
    "- Agradecemos a Fatocria F5 y su equipo por el apoyo constante.\n",
    "- A nuestros seres queridos por el apoyo directa e inderectamente hacia este proyecto."
   ]
  },
  {
   "attachments": {},
   "cell_type": "markdown",
   "metadata": {},
   "source": [
    "### Licencia"
   ]
  },
  {
   "attachments": {},
   "cell_type": "markdown",
   "metadata": {},
   "source": [
    "Derechos de autor (c) 2023 Paloma Garcia - Miguel Mendoza\n",
    "Se concede permiso, de forma gratuita, a cualquier persona que obtenga una copia de este software y los archivos de documentación asociados (el \"Software\"), para utilizar el Software sin restricciones, incluidos, entre otros, los derechos de uso, copia, modificación, fusión , publicar, distribuir, sublicenciar y / o vender copias del Software, y permitir que las personas a las que se les proporcione el Software lo hagan, sujeto a las siguientes condiciones:\n",
    "El aviso de derechos de autor anterior y este aviso de permiso se incluirán en todas las copias o partes sustanciales del Software.\n",
    "EL SOFTWARE SE PROPORCIONA \"TAL CUAL\", SIN GARANTÍA DE NINGÚN TIPO, EXPRESA O IMPLÍCITA, INCLUIDAS, ENTRE OTRAS, LAS GARANTÍAS DE COMERCIABILIDAD, IDONEIDAD PARA UN PROPÓSITO PARTICULAR Y NO INFRACCIÓN. EN NINGÚN CASO LOS AUTORES O TITULARES DE LOS DERECHOS DE AUTOR SERÁN RESPONSABLES DE CUALQUIER RECLAMO, DAÑO U OTRA RESPONSABILIDAD, YA SEA EN UNA ACCIÓN DE CONTRATO, AGRAVIO O DE OTRO MODO, DERIVADA DE, FUERA DE O EN RELACIÓN CON EL SOFTWARE O EL USO U OTROS NEGOCIOS EN EL SOFTWARE."
   ]
  }
 ],
 "metadata": {
  "language_info": {
   "name": "python"
  },
  "orig_nbformat": 4
 },
 "nbformat": 4,
 "nbformat_minor": 2
}
